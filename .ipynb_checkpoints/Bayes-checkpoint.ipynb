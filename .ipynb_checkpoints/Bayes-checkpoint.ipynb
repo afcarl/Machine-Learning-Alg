{
 "cells": [
  {
   "cell_type": "markdown",
   "metadata": {},
   "source": [
    "Multivariate Guassian Distribution\n",
    "=============================\n",
    "\n",
    "-----------------------------------\n",
    "* Guassian distribution\n",
    "---------------------\n",
    "+ Math :\n",
    "$x\\sim N(\\mu,\\sigma^2)$\n",
    "+ Alg :\n",
    "Use training Set: $\\left \\{ x_1, x_2, \\cdots, x_n \\right \\}$ to etismate $\\mu$, and $\\sigma$. Then predict the probability of new data by Guassian model.\n",
    "\n",
    "\n",
    "+ Tips:\n",
    "(from Machine Learning Video)\n",
    "    1. Anomaly detection VS supervised algorithms\n",
    "> The number of positive and negative examples are not balanced--> use Guassian model to learn negative distribution. then future anomalies may look nothing like any of the anomalous examples we've seen so far.\n",
    "Positive examples are enough-->use supervised learning. future positive examples likely to be similar to ones in traing set.\n",
    "\n",
    "    2. Data distribution\n",
    "> Non-gaussain features transform to like Gaussian features.   \n",
    "> Transform formula: $log(x+c)$, $sqrt(x)$, $x^\\frac{1}{c}$, etc.  \n",
    "> Use the histgram to see the distribution\n",
    "    \n",
    "--------------------------------------\n",
    "* Multivariate Guassian Distribution\n",
    "----------------------------------------\n",
    "> Don't model $p(x_1)$, $p(x_2)$, $\\cdots$, etc. sepatately. Model $p(x)$ all in one go.\n",
    "\n",
    ">--> then we can also model correlations between the data.\n",
    "\n",
    "+ Math\n",
    "> Parameters $\\mu \\in R^n$, $\\Sigma \\in R^{nxn}$.\n",
    "$$ p(x;{\\color{Red}\\mu},{\\color{Red}\\Sigma})= \\frac{1}{(2\\pi)^{\\frac{n}{2}} |\\Sigma|^{\\frac{1}{2}}} exp(-\\frac{1}{2} (x-\\mu)^T \\Sigma^{-1}(x-\\mu))$$\n",
    "\n",
    "+ Alg :\n",
    "> Maximum Likelihood estimates\n",
    "$$ \\\n",
    "\n",
    "\n",
    "\n",
    "* Ref:\n",
    "--------------------------------\n",
    "Machine Learning (By Andrew Ng) / 15_anomaly-detection"
   ]
  }
 ],
 "metadata": {
  "anaconda-cloud": {},
  "kernelspec": {
   "display_name": "Python [conda root]",
   "language": "python",
   "name": "conda-root-py"
  },
  "language_info": {
   "codemirror_mode": {
    "name": "ipython",
    "version": 2
   },
   "file_extension": ".py",
   "mimetype": "text/x-python",
   "name": "python",
   "nbconvert_exporter": "python",
   "pygments_lexer": "ipython2",
   "version": "2.7.12"
  }
 },
 "nbformat": 4,
 "nbformat_minor": 1
}
