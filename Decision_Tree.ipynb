{
 "cells": [
  {
   "cell_type": "markdown",
   "metadata": {},
   "source": [
    "Decision Tree\n",
    "==============================\n",
    "\n",
    "* Basic Understanding (sklearn):\n",
    "-------------------------------\n",
    ">Decision Trees (DTs) are a non-parametric supervised learning method used for classification and regression. The goal is to create a model that predicts the value of a target variable by learning simple decision rules inferred from the data features.\n",
    "\n",
    "\n",
    "* Hyperparameters :\n",
    "---------------------------------\n",
    "+ k:\n",
    ">find the best k on the validation set\n",
    "+ distance:\n",
    ">L1 vs. L2. It is interesting to consider differences between the two metrics. In particular, the L2 distance is much more unforgiving than the L1 distance when it comes to differences between two vectors. That is, the L2 distance prefers many medium disagreements to one big one. L1 and L2 distances (or equivalently the L1/L2 norms of the differences between a pair of images) are the most commonly used special cases of a p-norm.\n",
    "\n",
    "\n",
    "* Pros and Cons\n",
    "----------------------------------\n",
    "+ Pros:\n",
    "\n",
    ">- Simple to understand and to interpret. Trees can be visualised.\n",
    "\n",
    ">- Requires little data preparation. Other techniques often require data normalisation, dummy variables need to be created and blank values to be removed. Note however that this module does not support missing values.\n",
    "\n",
    ">- The cost of using the tree (i.e., predicting data) is logarithmic in the number of data points used to train the tree.\n",
    "\n",
    ">- Able to handle both numerical and categorical data. Other techniques are usually specialised in analysing datasets that have only one type of variable. See algorithms for more information.\n",
    "\n",
    ">- Able to handle multi-output problems.\n",
    "\n",
    ">- Uses a white box model. If a given situation is observable in a model, the explanation for the condition is easily explained by boolean logic. By contrast, in a black box model (e.g., in an artificial neural network), results may be more difficult to interpret.\n",
    "\n",
    ">- Possible to validate a model using statistical tests. That makes it possible to account for the reliability of the model.\n",
    "\n",
    ">- Performs well even if its assumptions are somewhat violated by the true model from which the data were generated.\n",
    "\n",
    "+ Cons:\n",
    "\n",
    ">- Decision-tree learners can create over-complex trees that do not generalise the data well. This is called overfitting. Mechanisms such as pruning (not currently supported), setting the minimum number of samples required at a leaf node or setting the maximum depth of the tree are necessary to avoid this problem.\n",
    "\n",
    ">- Decision trees can be unstable because small variations in the data might result in a completely different tree being generated. This problem is mitigated by using decision trees within an ensemble.\n",
    "\n",
    ">- The problem of learning an optimal decision tree is known to be NP-complete under several aspects of optimality and even for simple concepts. Consequently, practical decision-tree learning algorithms are based on heuristic algorithms such as the greedy algorithm where locally optimal decisions are made at each node. Such algorithms cannot guarantee to return the globally optimal decision tree. This can be mitigated by training multiple trees in an ensemble learner, where the features and samples are randomly sampled with replacement.\n",
    "\n",
    ">- There are concepts that are hard to learn because decision trees do not express them easily, such as XOR, parity or multiplexer problems.\n",
    "\n",
    ">- Decision tree learners create biased trees if some classes dominate. It is therefore recommended to balance the dataset prior to fitting with the decision tree.\n",
    "\n",
    "\n",
    "* Improvement\n",
    "----------------------------------\n",
    "+ Approximate Nearest Nerghbor (ANN) (e.g. FLANN)\n",
    ">trade off the correctness of the nearest neighbor retrieval with its space/time complexity during retrieval,and usually rely on a pre-processing/indexing stage that involves building a kdtree, or running the k-means algorithm.\n",
    "\n",
    "\n",
    "* Tips:\n",
    "-----------------------------------\n",
    ">*Evaluate on the test set only a single time, at the very end.*\n",
    "\n",
    ">*Split your training set into training set and a validation set. Use validation set to tune all hyperparameters. At the end run a single time on the test set and report performance.*\n",
    "\n",
    "\n",
    "* Ref:\n",
    "-----------------------------------\n",
    "+ http://scikit-learn.org/stable/modules/tree.html\n",
    "+ https://en.wikipedia.org/wiki/K-nearest_neighbors_algorithm#Algorithm\n",
    "+ https://zhuanlan.zhihu.com/p/21354489?refer=c_35627586\n"
   ]
  },
  {
   "cell_type": "code",
   "execution_count": null,
   "metadata": {
    "collapsed": true
   },
   "outputs": [],
   "source": []
  }
 ],
 "metadata": {
  "kernelspec": {
   "display_name": "Python 2",
   "language": "python",
   "name": "python2"
  },
  "language_info": {
   "codemirror_mode": {
    "name": "ipython",
    "version": 2
   },
   "file_extension": ".py",
   "mimetype": "text/x-python",
   "name": "python",
   "nbconvert_exporter": "python",
   "pygments_lexer": "ipython2",
   "version": "2.7.11"
  }
 },
 "nbformat": 4,
 "nbformat_minor": 0
}
