{
 "cells": [
  {
   "cell_type": "markdown",
   "metadata": {},
   "source": [
    "LDA(Linear Discriminant Analysis)\n",
    "=============================================\n",
    "\n",
    "    亦称Fisher's linear discriminant. 稍有不同之处：LDA假设了各类样本的协方差矩阵相同且满秩。\n",
    "\n",
    "* Basic Understanding (wiki pedia):\n",
    "------------------------------------------------\n",
    "    A method to find a linear combination of features that characterizes or separates two or more classes of objects or events. The resulting combination may be used as a linear classifier, or, more commonly, for dimensionality reduction before later classification.\n",
    "\n",
    "* for dimensionality reduction\n",
    "------------------------------------------------\n",
    "    LDA is also closely related to principal component analysis (PCA) and factor analysis in that they both look for linear combinations of variables which best explain the data. LDA explicitly attempts to model the difference between the classes of data. PCA on the other hand does not take into account any difference in class, and factor analysis builds the feature combinations based on differences rather than similarities. Discriminant analysis is also different from factor analysis in that it is not an interdependence technique: a distinction between independent variables and dependent variables (also called criterion variables) must be made.\n",
    "\n",
    "* Physics: 使在投影后的空间中，类间距离尽可能大，类内距离尽可能小\n",
    "\n",
    "\n",
    "* Math: 第i类样本x（均值$\\mu$ 协方差$\\Sigma$), 投影矩阵w, 投影后$y=w^Tx$（均值 $w^T\\mu$ 协方差$w^T\\Sigma w$)。  \n",
    "    \n",
    "    类间距离大--->max $\\lVert w^T\\mu_0-w^T\\mu_1\\rVert$ \n",
    "    \n",
    "    类内距离小--->min $w^T\\Sigma_0w+w^T\\Sigma_1w$ \n",
    "\n",
    "\n",
    "\n",
    "* Ref:\n",
    "-----------------------------------\n",
    "+ https://en.wikipedia.org/wiki/Linear_discriminant_analysis\n",
    "+ 周志华 《机器学习》\n",
    "+ https://zhuanlan.zhihu.com/p/21354489?refer=c_35627586"
   ]
  },
  {
   "cell_type": "code",
   "execution_count": 17,
   "metadata": {
    "collapsed": true
   },
   "outputs": [],
   "source": [
    "import numpy as np\n",
    "import matplotlib.pyplot as plt"
   ]
  },
  {
   "cell_type": "code",
   "execution_count": 19,
   "metadata": {
    "collapsed": false
   },
   "outputs": [
    {
     "ename": "IndentationError",
     "evalue": "expected an indented block (<ipython-input-19-856db54e7eb0>, line 5)",
     "output_type": "error",
     "traceback": [
      "\u001b[1;36m  File \u001b[1;32m\"<ipython-input-19-856db54e7eb0>\"\u001b[1;36m, line \u001b[1;32m5\u001b[0m\n\u001b[1;33m    \u001b[0m\n\u001b[1;37m    ^\u001b[0m\n\u001b[1;31mIndentationError\u001b[0m\u001b[1;31m:\u001b[0m expected an indented block\n"
     ]
    }
   ],
   "source": [
    "def lda_train(feature,label):\n",
    "    classes=np.unique(label)\n",
    "    classes_num=len(classes)\n",
    "    \n",
    "    for i in range(classes):\n",
    "        mean\n",
    "    "
   ]
  },
  {
   "cell_type": "code",
   "execution_count": 18,
   "metadata": {
    "collapsed": false
   },
   "outputs": [
    {
     "name": "stdout",
     "output_type": "stream",
     "text": [
      "[0 1]\n"
     ]
    }
   ],
   "source": [
    "# data\n",
    "from sklearn import datasets\n",
    "iris = datasets.load_iris()\n",
    "#print iris\n",
    "feature=iris.data[:100,:]\n",
    "label=iris.target[:100]\n",
    "#print feature,label\n",
    "classes=np.unique(label)\n",
    "print classes"
   ]
  },
  {
   "cell_type": "markdown",
   "metadata": {
    "collapsed": true
   },
   "source": [
    "$ y=x $"
   ]
  },
  {
   "cell_type": "code",
   "execution_count": null,
   "metadata": {
    "collapsed": true
   },
   "outputs": [],
   "source": []
  }
 ],
 "metadata": {
  "kernelspec": {
   "display_name": "Python 2",
   "language": "python",
   "name": "python2"
  },
  "language_info": {
   "codemirror_mode": {
    "name": "ipython",
    "version": 2
   },
   "file_extension": ".py",
   "mimetype": "text/x-python",
   "name": "python",
   "nbconvert_exporter": "python",
   "pygments_lexer": "ipython2",
   "version": "2.7.11"
  }
 },
 "nbformat": 4,
 "nbformat_minor": 0
}
